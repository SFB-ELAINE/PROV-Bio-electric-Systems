{
 "cells": [
  {
   "cell_type": "markdown",
   "metadata": {},
   "source": [
    "# Visualisation of PROVenance-Models\n",
    "\n",
    "In order to visualise the provenance models, we employ the python `prov` library.\n",
    "Details of all required libraries including their version information can be found in the `requirements.txt`.\n",
    "\n",
    "First of all import the required libraries:"
   ]
  },
  {
   "cell_type": "code",
   "execution_count": 1,
   "metadata": {},
   "outputs": [],
   "source": [
    "import glob\n",
    "import pandas as pd\n",
    "from prov.model import ProvDocument, ProvEntity, ProvAssociation, ProvGeneration, ProvUsage, ProvActivity\n",
    "from prov.dot import prov_to_dot"
   ]
  },
  {
   "cell_type": "markdown",
   "metadata": {},
   "source": [
    "Define some useful functions that can be employed later for the particular provenance models respectively files."
   ]
  },
  {
   "cell_type": "code",
   "execution_count": 2,
   "metadata": {},
   "outputs": [],
   "source": [
    "def readProv(filename):\n",
    "    \"\"\"\n",
    "    Deserialise provenance information from a turtle file given as parameter.\n",
    "    Note that the file ending 'ttl' is automatically added.\n",
    "    \"\"\"\n",
    "    with open(\"%s.ttl\" % (filename,), 'r') as f:\n",
    "        return(ProvDocument.deserialize(source=f, format='rdf'))"
   ]
  },
  {
   "cell_type": "code",
   "execution_count": 3,
   "metadata": {},
   "outputs": [],
   "source": [
    "def prov2svg(prov_doc, svg_filename):\n",
    "    \"\"\"\n",
    "    Export the provenance document (given as parameter) as SVG file under the given name.\n",
    "    Note that the file ending 'svg' is automatically added.\n",
    "    \"\"\"\n",
    "    prov_doc.plot(filename='%s.svg' % (svg_filename,))"
   ]
  },
  {
   "cell_type": "code",
   "execution_count": 4,
   "metadata": {},
   "outputs": [],
   "source": [
    "def prov2dot(prov_doc, dot_filename):\n",
    "    \"\"\"\n",
    "    Export the provenance document (given as parameter) as DOT file under the given name.\n",
    "    Note that the file ending 'dot' is automatically added.\n",
    "    \"\"\"\n",
    "    prov_to_dot(prov_doc).write('%s.dot' % (dot_filename,))"
   ]
  },
  {
   "cell_type": "code",
   "execution_count": 5,
   "metadata": {},
   "outputs": [],
   "source": [
    "def prov2entities_csv(prov_doc, csv_filename):\n",
    "    \"\"\"\n",
    "    Create a list of entities from the given provenance document.\n",
    "    Extract information about the 'type', 'identifier', 'prov:label', and 'da:fileType' (if available).\n",
    "    Export the list as CSV file under the given name.\n",
    "    Note that '_entities.csv' will be automatically added to the csv filename.\n",
    "    \"\"\"\n",
    "    df = pd.DataFrame()\n",
    "    for r in prov_doc.get_records((ProvEntity, ProvActivity)):\n",
    "        label = \"; \".join(r.get_attribute('prov:label'))\n",
    "        file_type = \"; \".join(r.get_attribute('da:fileType'))\n",
    "        ID = str(r.identifier)\n",
    "        entry = {\n",
    "            'type': r.__class__.__name__,\n",
    "            'ID': ID,\n",
    "            'label': label,\n",
    "            'file_type': file_type,\n",
    "        }\n",
    "        df = df.append(pd.DataFrame(entry, index=[0]), ignore_index=True)\n",
    "    df.sort_values(by=['type','ID']).to_csv(\"%s_entities.csv\" % (csv_filename,))"
   ]
  },
  {
   "cell_type": "code",
   "execution_count": 6,
   "metadata": {},
   "outputs": [],
   "source": [
    "def prov2rel_csv(prov_doc, csv_filename):\n",
    "    \"\"\"\n",
    "    Create a list of relations from the given provenance document.\n",
    "    Extract information about the two involved elements including Identifier and type as well as their role (if available).\n",
    "    Export the list as CSV file under the given name.\n",
    "    Note that '_relations.csv' will be automatically added to the csv filename.\n",
    "    \"\"\"\n",
    "    df = pd.DataFrame()\n",
    "    for r in prov_doc.get_records((ProvAssociation, ProvGeneration, ProvUsage)):\n",
    "        attrs = r.formal_attributes\n",
    "        entry = {\n",
    "            'type': r.__class__.__name__,\n",
    "            'com1_type': str(attrs[0][0]),\n",
    "            'com1_ID': str(attrs[0][1]),\n",
    "            'com2_type': str(attrs[1][0]),\n",
    "            'com2_ID': str(attrs[1][1]),\n",
    "            'role': \"; \".join([str(role) for role in r.get_attribute('prov:role')])\n",
    "        }\n",
    "        df = df.append(pd.DataFrame(entry, index=[0]), ignore_index=True)\n",
    "    df.sort_values(by=['type', 'com1_ID', 'com2_ID']).to_csv(\"%s_relations.csv\" % (csv_filename,))"
   ]
  },
  {
   "cell_type": "markdown",
   "metadata": {},
   "source": [
    "Now, as the helping functions are defined, search for provenance models in the folders `model-based` and `model-based/pattern`.\n",
    "In case they are not marked as old by containing `_old` in their path, parse the document and export them into SVG as well as into DOT files using the helper functions."
   ]
  },
  {
   "cell_type": "code",
   "execution_count": 8,
   "metadata": {},
   "outputs": [
    {
     "name": "stdout",
     "output_type": "stream",
     "text": [
      "Computing 'model-based/simulation_models'...OK\n",
      "Computing 'model-based/geometry'...OK\n",
      "Computing 'model-based/context_models'...OK\n",
      "Computing 'model-based/pattern/extract-information'...OK\n",
      "Computing 'model-based/pattern/parameterisation'...OK\n",
      "Computing 'model-based/pattern/composition'...OK\n",
      "Computing 'model-based/pattern/refinement'...OK\n",
      "Computing 'model-based/pattern/generation'...OK\n"
     ]
    }
   ],
   "source": [
    "# Compute PROV models\n",
    "files = glob.glob(\"model-based/*.ttl\")\n",
    "files += glob.glob(\"model-based/pattern/*.ttl\")\n",
    "for file in files:\n",
    "    if '_old' in file:\n",
    "        continue\n",
    "    n = file.replace(\".ttl\", \"\")\n",
    "    print(\"Computing '%s'...\" % (n,), end='')\n",
    "    pdoc = readProv(n)\n",
    "    prov2svg(pdoc, n)\n",
    "    prov2dot(pdoc, n)\n",
    "    #prov2entities_csv(pdoc, n)\n",
    "    #prov2rel_csv(pdoc, n)\n",
    "    print(\"OK\")"
   ]
  }
 ],
 "metadata": {
  "kernelspec": {
   "display_name": "Python 3",
   "language": "python",
   "name": "python3"
  },
  "language_info": {
   "codemirror_mode": {
    "name": "ipython",
    "version": 3
   },
   "file_extension": ".py",
   "mimetype": "text/x-python",
   "name": "python",
   "nbconvert_exporter": "python",
   "pygments_lexer": "ipython3",
   "version": "3.7.2"
  }
 },
 "nbformat": 4,
 "nbformat_minor": 2
}
