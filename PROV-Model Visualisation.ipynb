{
 "cells": [
  {
   "cell_type": "code",
   "execution_count": 1,
   "metadata": {},
   "outputs": [],
   "source": [
    "import glob\n",
    "import pandas as pd\n",
    "from prov.model import ProvDocument, ProvEntity, ProvAssociation, ProvGeneration, ProvUsage, ProvActivity\n",
    "from prov.dot import prov_to_dot"
   ]
  },
  {
   "cell_type": "code",
   "execution_count": 2,
   "metadata": {},
   "outputs": [],
   "source": [
    "# Read PROV model from RDF file\n",
    "def readProv(filename):\n",
    "    with open(\"%s.ttl\" % (filename,), 'r') as f:\n",
    "        return(ProvDocument.deserialize(source=f, format='rdf'))"
   ]
  },
  {
   "cell_type": "code",
   "execution_count": 3,
   "metadata": {},
   "outputs": [],
   "source": [
    "# Create SVG from PROV model\n",
    "def prov2svg(prov_doc, svg_filename):\n",
    "    prov_doc.plot(filename='%s.svg' % (svg_filename,))"
   ]
  },
  {
   "cell_type": "code",
   "execution_count": 4,
   "metadata": {},
   "outputs": [],
   "source": [
    "# Create DOT from PROV model\n",
    "def prov2dot(prov_doc, dot_filename):\n",
    "    prov_to_dot(prov_doc).write('%s.dot' % (dot_filename,))\n",
    "    #with open(, 'w') as f:\n",
    "    #    f.write()\n",
    "    #    f.close()"
   ]
  },
  {
   "cell_type": "code",
   "execution_count": 5,
   "metadata": {},
   "outputs": [],
   "source": [
    "# Extract entities from PROV model\n",
    "def prov2entities_csv(prov_doc, csv_filename):\n",
    "    df = pd.DataFrame()\n",
    "    for r in prov_doc.get_records((ProvEntity, ProvActivity)):\n",
    "        label = \"; \".join(r.get_attribute('prov:label'))\n",
    "        file_type = \"; \".join(r.get_attribute('da:fileType'))\n",
    "        ID = str(r.identifier)\n",
    "        entry = {\n",
    "            'type': r.__class__.__name__,\n",
    "            'ID': ID,\n",
    "            'label': label,\n",
    "            'file_type': file_type,\n",
    "        }\n",
    "        df = df.append(pd.DataFrame(entry, index=[0]), ignore_index=True)\n",
    "    df.sort_values(by=['type','ID']).to_csv(\"%s_entities.csv\" % (csv_filename,))"
   ]
  },
  {
   "cell_type": "code",
   "execution_count": 6,
   "metadata": {},
   "outputs": [],
   "source": [
    "# Extract relations from PROV model\n",
    "def prov2rel_csv(prov_doc, csv_filename):\n",
    "    df = pd.DataFrame()\n",
    "    for r in prov_doc.get_records((ProvAssociation, ProvGeneration, ProvUsage)):\n",
    "        attrs = r.formal_attributes\n",
    "        entry = {\n",
    "            'type': r.__class__.__name__,\n",
    "            'com1_type': str(attrs[0][0]),\n",
    "            'com1_ID': str(attrs[0][1]),\n",
    "            'com2_type': str(attrs[1][0]),\n",
    "            'com2_ID': str(attrs[1][1]),\n",
    "            'role': \"; \".join([str(role) for role in r.get_attribute('prov:role')])\n",
    "        }\n",
    "        df = df.append(pd.DataFrame(entry, index=[0]), ignore_index=True)\n",
    "    df.sort_values(by=['type', 'com1_ID', 'com2_ID']).to_csv(\"%s_relations.csv\" % (csv_filename,))"
   ]
  },
  {
   "cell_type": "code",
   "execution_count": 7,
   "metadata": {},
   "outputs": [
    {
     "name": "stdout",
     "output_type": "stream",
     "text": [
      "Computing 'model-based/geometry'...OK\n",
      "Computing 'model-based/context_models'...OK\n",
      "Computing 'model-based/simulation_models'...OK\n",
      "Computing 'model-based/pattern/extract-information'...OK\n",
      "Computing 'model-based/pattern/generation'...OK\n",
      "Computing 'model-based/pattern/refinement'...OK\n",
      "Computing 'model-based/pattern/composition'...OK\n",
      "Computing 'model-based/pattern/parameterisation'...OK\n",
      "None\n"
     ]
    }
   ],
   "source": [
    "# Compute PROV models\n",
    "files = glob.glob(\"model-based/*.ttl\")\n",
    "files += glob.glob(\"model-based/pattern/*.ttl\")\n",
    "for file in files:\n",
    "    if '_old' in file:\n",
    "        continue\n",
    "    n = file.replace(\".ttl\", \"\")\n",
    "    print(\"Computing '%s'...\" % (n,), end='')\n",
    "    pdoc = readProv(n)\n",
    "    #prov2svg(pdoc, n)\n",
    "    dot = prov2dot(pdoc, n)\n",
    "    #prov2entities_csv(pdoc, n)\n",
    "    #prov2rel_csv(pdoc, n)\n",
    "    print(\"OK\")\n",
    "print(dot)"
   ]
  }
 ],
 "metadata": {
  "kernelspec": {
   "display_name": "Python 3",
   "language": "python",
   "name": "python3"
  },
  "language_info": {
   "codemirror_mode": {
    "name": "ipython",
    "version": 3
   },
   "file_extension": ".py",
   "mimetype": "text/x-python",
   "name": "python",
   "nbconvert_exporter": "python",
   "pygments_lexer": "ipython3",
   "version": "3.5.3"
  }
 },
 "nbformat": 4,
 "nbformat_minor": 2
}
